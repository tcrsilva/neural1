{
 "cells": [
  {
   "cell_type": "code",
   "execution_count": 3,
   "metadata": {},
   "outputs": [],
   "source": [
    "import numpy as np"
   ]
  },
  {
   "cell_type": "code",
   "execution_count": 4,
   "metadata": {},
   "outputs": [],
   "source": [
    "# X = (hours sleeping, hours studying), y = score on test #\n",
    "X = np.array(([2,9],[1,5],[3,6]), dtype=float)\n",
    "y = np.array(([92],[86],[89]), dtype=float)\n",
    "\n",
    "# scale units #\n",
    "X = X/np.amax(X, axis=0) # número máximo do array X\n",
    "y = y/100 # máximo de testes é 100"
   ]
  },
  {
   "cell_type": "code",
   "execution_count": 15,
   "metadata": {
    "scrolled": true
   },
   "outputs": [
    {
     "name": "stdout",
     "output_type": "stream",
     "text": [
      "Output Previsto: \n",
      " [[0.66271772]\n",
      " [0.63309996]\n",
      " [0.66491895]]\n",
      "Atual Output: \n",
      " [[0.92]\n",
      " [0.86]\n",
      " [0.89]]\n"
     ]
    }
   ],
   "source": [
    "class Neural_Network(object):\n",
    "    def __init__(self):\n",
    "        # parâmetros #\n",
    "        self.inputSize = 2\n",
    "        self.outputSize = 1\n",
    "        self.hiddenSize = 3\n",
    "        # weights #\n",
    "        self.W1 = np.random.randn(self.inputSize, self.hiddenSize) #(3x2) peso da matriz do input to hidden layer\n",
    "        self.W2 = np.random.randn(self.hiddenSize, self.outputSize) #(3x1) peso da matriz do hidden to output layer\n",
    "        \n",
    "    def forward(self, X):\n",
    "        # forward propagation through our network #\n",
    "        self.z = np.dot(X, self.W1) #dot product of X (input) and first set of 3x2 weights\n",
    "        self.z2 = self.sigmoid(self.z) #activation function\n",
    "        self.z3 = np.dot(self.z2, self.W2) #dot product of hidden layer (z2) and second set of 3x1 weights\n",
    "        o = self.sigmoid(self.z3) #final activation function\n",
    "        return o\n",
    "\n",
    "    def sigmoid(self, s):\n",
    "        # activation function #\n",
    "        return 1/(1+np.exp(-s))\n",
    "\n",
    "NN = Neural_Network()\n",
    "# definindo o output #\n",
    "o = NN.forward(X)\n",
    "print (\"Output Previsto: \\n\", o)\n",
    "print (\"Atual Output: \\n\", y)"
   ]
  },
  {
   "cell_type": "code",
   "execution_count": null,
   "metadata": {},
   "outputs": [],
   "source": []
  }
 ],
 "metadata": {
  "kernelspec": {
   "display_name": "Python 3",
   "language": "python",
   "name": "python3"
  },
  "language_info": {
   "codemirror_mode": {
    "name": "ipython",
    "version": 3
   },
   "file_extension": ".py",
   "mimetype": "text/x-python",
   "name": "python",
   "nbconvert_exporter": "python",
   "pygments_lexer": "ipython3",
   "version": "3.7.1"
  }
 },
 "nbformat": 4,
 "nbformat_minor": 2
}
